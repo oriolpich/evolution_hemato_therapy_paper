{
 "cells": [
  {
   "cell_type": "markdown",
   "metadata": {},
   "source": [
    "Before running the analyses, mutational signatures have to be extracted (in our case, using SigProfilerJulia) and mSigAct has to be also run in HMF Colon-Rectum, Breast, Urinary-Tract and Ovary cohorts. Moreover, the treatment history of HMF patients is needed. We provide a set of scripts that parse the data, but we are not allowed to share HMF data."
   ]
  },
  {
   "cell_type": "markdown",
   "metadata": {},
   "source": [
    "## how run msigAct"
   ]
  },
  {
   "cell_type": "code",
   "execution_count": 1,
   "metadata": {},
   "outputs": [],
   "source": [
    "def remove_hypermutants(file):\n",
    "    \n",
    "    # remove hypermutants\n",
    "    df_col_muts = pd.read_csv(file, sep ='\\t')\n",
    "\n",
    "    dic_muts = df_col_muts.sum().to_dict()\n",
    "    IQR = iqr(list(dic_muts.values()))\n",
    "    median = np.median(list(dic_muts.values()))\n",
    "\n",
    "    cutoff = median + 2.5 * IQR\n",
    "\n",
    "    hypersamples = [s for s, v in dic_muts.items() if v > cutoff]\n",
    "    nothypersamples = [s for s, v in dic_muts.items() if v <= cutoff]\n",
    "    \n",
    "    return nothypersamples\n",
    "\n",
    "def read_PCAWG_sigs_file(pcawg_file):\n",
    "    \n",
    "    df_pcawg = pd.read_csv(pcawg_file)\n",
    "    df_pcawg['mut'] = df_pcawg.apply(lambda x : '{}[{}>{}]{}'.format(x['SubType'][0], \n",
    "                                                                    x['SubType'][1],\n",
    "                                                                     x['Type'][-1],\n",
    "                                                                     x['SubType'][-1], \n",
    "                                                                    ), axis = 1)\n",
    "    df_pcawg.set_index('mut', inplace = True)\n",
    "    \n",
    "    return df_pcawg\n",
    "\n",
    "def process_msigact(df_pcawg, df_col, selected_extracted_signatures, previous_pcawg, target, label, muts_file, hypermutants = False  ): \n",
    "\n",
    "    pcawg_subset = df_pcawg[previous_pcawg]\n",
    "    observed_subset = df_col[selected_extracted_signatures]\n",
    "\n",
    "    merged_sigs = pd.concat([pcawg_subset, observed_subset], axis = 1,)\n",
    "    merged_sigs = merged_sigs/merged_sigs.sum()\n",
    "    merged_sigs['index'] = ['{}{}{}{}'.format(ix[0], ix[2], ix[-1], ix[4]) for ix in merged_sigs.index.tolist()]\n",
    "\n",
    "    for name, signature_interest in target.items():\n",
    "        \n",
    "        signature_interest = signature_oxaliplatin\n",
    "        cols_no_treatment = [col for col in merged_sigs.columns.tolist() if (col != signature_interest) & (col !='index')]\n",
    "        mSigAct = merged_sigs[['index'] + cols_no_treatment + [signature_interest]]\n",
    "\n",
    "        mSigAct.to_csv('../../data/mutfootprints_2020/data/hartwig/signatures/mSigAct/{}_SIGS_{}.tsv'.format(label, name), \n",
    "                      sep ='\\t', index = False, header = True)\n",
    "    \n",
    "    if hypermutants is True:\n",
    "        nothypersamples = remove_hypermutants(muts_file)\n",
    "        df_col_muts = df_col_muts[nothypersamples]\n",
    "        \n",
    "    cols_muts = df_col_muts.columns.tolist()\n",
    "    df_col_muts['order'] = merged_sigs['index'].tolist()\n",
    "    df_col_muts[['order'] + cols_muts].to_csv('../../data/mutfootprints_2020/data/hartwig/signatures/mSigAct/{}_muts.tsv'.format(label), \n",
    "                  sep ='\\t', index = False, header = True)\n",
    "\n",
    "\n"
   ]
  },
  {
   "cell_type": "code",
   "execution_count": 2,
   "metadata": {},
   "outputs": [
    {
     "ename": "NameError",
     "evalue": "name 'pd' is not defined",
     "output_type": "error",
     "traceback": [
      "\u001b[0;31m---------------------------------------------------------------------------\u001b[0m",
      "\u001b[0;31mNameError\u001b[0m                                 Traceback (most recent call last)",
      "\u001b[0;32m<ipython-input-2-de138261ee58>\u001b[0m in \u001b[0;36m<module>\u001b[0;34m\u001b[0m\n\u001b[1;32m      1\u001b[0m \u001b[0;31m# read PCAWG file\u001b[0m\u001b[0;34m\u001b[0m\u001b[0;34m\u001b[0m\u001b[0;34m\u001b[0m\u001b[0m\n\u001b[1;32m      2\u001b[0m \u001b[0mpcawg_file\u001b[0m \u001b[0;34m=\u001b[0m \u001b[0;34m'/workspace/projects/reverse_calling/src/sofware/mSigAct_pipeline/data/sigProfiler_SBS_signatures_2018_03_28.csv'\u001b[0m\u001b[0;34m\u001b[0m\u001b[0;34m\u001b[0m\u001b[0m\n\u001b[0;32m----> 3\u001b[0;31m \u001b[0mdf_pcawg\u001b[0m \u001b[0;34m=\u001b[0m \u001b[0mread_PCAWG_sigs_file\u001b[0m\u001b[0;34m(\u001b[0m\u001b[0mpcawg_file\u001b[0m\u001b[0;34m)\u001b[0m\u001b[0;34m\u001b[0m\u001b[0;34m\u001b[0m\u001b[0m\n\u001b[0m",
      "\u001b[0;32m<ipython-input-1-1bfc1019b878>\u001b[0m in \u001b[0;36mread_PCAWG_sigs_file\u001b[0;34m(pcawg_file)\u001b[0m\n\u001b[1;32m     17\u001b[0m \u001b[0;32mdef\u001b[0m \u001b[0mread_PCAWG_sigs_file\u001b[0m\u001b[0;34m(\u001b[0m\u001b[0mpcawg_file\u001b[0m\u001b[0;34m)\u001b[0m\u001b[0;34m:\u001b[0m\u001b[0;34m\u001b[0m\u001b[0;34m\u001b[0m\u001b[0m\n\u001b[1;32m     18\u001b[0m \u001b[0;34m\u001b[0m\u001b[0m\n\u001b[0;32m---> 19\u001b[0;31m     \u001b[0mdf_pcawg\u001b[0m \u001b[0;34m=\u001b[0m \u001b[0mpd\u001b[0m\u001b[0;34m.\u001b[0m\u001b[0mread_csv\u001b[0m\u001b[0;34m(\u001b[0m\u001b[0mpcawg_file\u001b[0m\u001b[0;34m)\u001b[0m\u001b[0;34m\u001b[0m\u001b[0;34m\u001b[0m\u001b[0m\n\u001b[0m\u001b[1;32m     20\u001b[0m     df_pcawg['mut'] = df_pcawg.apply(lambda x : '{}[{}>{}]{}'.format(x['SubType'][0], \n\u001b[1;32m     21\u001b[0m                                                                     \u001b[0mx\u001b[0m\u001b[0;34m[\u001b[0m\u001b[0;34m'SubType'\u001b[0m\u001b[0;34m]\u001b[0m\u001b[0;34m[\u001b[0m\u001b[0;36m1\u001b[0m\u001b[0;34m]\u001b[0m\u001b[0;34m,\u001b[0m\u001b[0;34m\u001b[0m\u001b[0;34m\u001b[0m\u001b[0m\n",
      "\u001b[0;31mNameError\u001b[0m: name 'pd' is not defined"
     ]
    }
   ],
   "source": [
    "# read PCAWG file\n",
    "pcawg_file = '../../data/sofware/mSigAct_pipeline/data/sigProfiler_SBS_signatures_2018_03_28.csv'\n",
    "df_pcawg = read_PCAWG_sigs_file(pcawg_file)"
   ]
  },
  {
   "cell_type": "markdown",
   "metadata": {},
   "source": [
    "### Colon Example"
   ]
  },
  {
   "cell_type": "code",
   "execution_count": 3,
   "metadata": {},
   "outputs": [
    {
     "ename": "NameError",
     "evalue": "name 'pd' is not defined",
     "output_type": "error",
     "traceback": [
      "\u001b[0;31m---------------------------------------------------------------------------\u001b[0m",
      "\u001b[0;31mNameError\u001b[0m                                 Traceback (most recent call last)",
      "\u001b[0;32m<ipython-input-3-67fac4ffe5df>\u001b[0m in \u001b[0;36m<module>\u001b[0;34m\u001b[0m\n\u001b[1;32m      3\u001b[0m \u001b[0;34m\u001b[0m\u001b[0m\n\u001b[1;32m      4\u001b[0m \u001b[0mcolon\u001b[0m \u001b[0;34m=\u001b[0m \u001b[0;34m'/workspace/users/opich/bg/mutfootprints_2020/data/hartwig/signatures/extraction/results/processes/Colon-Rectum.snvs/Colon-Rectum.snvs.processes.tsv'\u001b[0m\u001b[0;34m\u001b[0m\u001b[0;34m\u001b[0m\u001b[0m\n\u001b[0;32m----> 5\u001b[0;31m \u001b[0mdf_processes\u001b[0m \u001b[0;34m=\u001b[0m \u001b[0mpd\u001b[0m\u001b[0;34m.\u001b[0m\u001b[0mread_csv\u001b[0m\u001b[0;34m(\u001b[0m\u001b[0mcolon\u001b[0m\u001b[0;34m,\u001b[0m \u001b[0msep\u001b[0m \u001b[0;34m=\u001b[0m\u001b[0;34m'\\t'\u001b[0m\u001b[0;34m,\u001b[0m \u001b[0mindex_col\u001b[0m\u001b[0;34m=\u001b[0m\u001b[0;36m0\u001b[0m\u001b[0;34m)\u001b[0m\u001b[0;34m\u001b[0m\u001b[0;34m\u001b[0m\u001b[0m\n\u001b[0m\u001b[1;32m      6\u001b[0m \u001b[0;34m\u001b[0m\u001b[0m\n\u001b[1;32m      7\u001b[0m \u001b[0;31m# not artefactual signatures. Assessed manually after signature extraction and postprocessing\u001b[0m\u001b[0;34m\u001b[0m\u001b[0;34m\u001b[0m\u001b[0;34m\u001b[0m\u001b[0m\n",
      "\u001b[0;31mNameError\u001b[0m: name 'pd' is not defined"
     ]
    }
   ],
   "source": [
    "# input matrix (from SigProfilerJulia)\n",
    "muts_file = '../../data/mutfootprints_2020/data/signatures/Colon-Rectum.snvs.dlm'\n",
    "\n",
    "colon = '../../data/mutfootprints_2020/data/hartwig/signatures/extraction/results/processe/Colon-Rectum.snvs/Colon-Rectum.snvs.processes.tsv'\n",
    "df_processes = pd.read_csv(colon, sep ='\\t', index_col=0)\n",
    "\n",
    "# not artefactual signatures. Assessed manually after signature extraction and postprocessing\n",
    "selected_extracted_signatures = ['1_1.0_NA', '2_1.0_SBS17b-0.96', '4_1.0_NA',\n",
    "                  '5_0.99_SBS17b-0.91', '6_1.0_NA', '10_0.99_NA', '11_0.99_NA']\n",
    "\n",
    "# signatures active in the tissue according to PCAWG\n",
    "previous_pcawg = ['SBS1',  'SBS15', 'SBS18', \n",
    "                  'SBS26', 'SBS28', 'SBS36', 'SBS5', 'SBS40' ] \n",
    "\n",
    "# target signatures\n",
    "target = {\"Oxaliplatin\":\"10_0.99_NA\", \n",
    "         \"Capecitabine\":\"2_1.0_SBS17b-0.96\"}\n",
    "\n",
    "label = \"Colon-Rectum\"\n",
    "\n",
    "process_msigact(df_pcawg, df_processes, selected_extracted_signatures, previous_pcawg, target, label, muts_file, hypermutants = True)\n",
    "\n",
    "# keep these available for the next tumor types\n",
    "df_pcawg[\"Capecitabine\"] = df_processes[\"2_1.0_SBS17b-0.96\"]\n",
    "df_pcawg[\"17\"] = df_processes[\"5_0.99_SBS17b-0.91\"]\n",
    "\n"
   ]
  },
  {
   "cell_type": "code",
   "execution_count": 4,
   "metadata": {},
   "outputs": [],
   "source": [
    "#mutation_file <- '/workspace/users/opich/bg/mutfootprints_2020/data/hartwig/signatures/mSigAct/Colon-Rectum_muts.tsv'\n",
    "#signature_file <- '/workspace/users/opich/bg/mutfootprints_2020/data/hartwig/signatures/mSigAct/Colon-Rectum_SIGS_Capecitabine.tsv'\n",
    "#outpath <- '/workspace/projects/reverse_calling/data/mSigAct/'\n"
   ]
  },
  {
   "cell_type": "markdown",
   "metadata": {},
   "source": [
    "Now we can run mSigAct. This requires the mSigAct-1.2-alpha-branch.\n",
    "\n",
    "You should adapt the mSigAct.R script so that it points to your install dir.\n",
    "\n"
   ]
  },
  {
   "cell_type": "markdown",
   "metadata": {},
   "source": [
    "```\n",
    "Rscript ../signatures/mSigAct.R Colon-Rectum_muts.tsv Colon-Rectum_SIGS_Capecitabine.tsv out_msigact \n",
    "```"
   ]
  },
  {
   "cell_type": "code",
   "execution_count": 5,
   "metadata": {},
   "outputs": [],
   "source": [
    "# this is how the other cohorts sould be run\n",
    "\n",
    "# Breast\n",
    "# signatures  17b and 5FU sig from colon-rectum extraction when targeting 5FU. Wanted sigs: SBS31 ,5FU\n",
    "previous_pcawg = ['SBS1',  'SBS2', 'SBS3', 'SBS5', 'SBS8', 'SBS13', \n",
    "                  'SBS18', 'SBS36',  'SBS40', 'SBS31' ]  # + Capecitabine, 17 when targeting 5FU\n",
    "\n",
    "# Lung\n",
    "#  17b and 5FU sig from colon-rectum extraction when targeting 5FU. Wanted sigs: 2_1.0_SBS31-0.95 ,5FU\n",
    "selected_extracted_signatures = ['2_1.0_SBS31-0.95']\n",
    "previous_pcawg = ['SBS1', 'SBS2', 'SBS3', 'SBS4', 'SBS5', 'SBS13',\n",
    "                  'SBS18',  'SBS40'] # + Capecitabine, 17 when when targeting 5FU\n",
    "\n",
    "# Ovary. No hypermutants filter. Wanted sigs :  6_1.0_SBS31-0.92\n",
    "selected_extracted_signatures = ['6_1.0_SBS31-0.92']\n",
    "previous_pcawg = ['SBS1', 'SBS2', 'SBS3', 'SBS8', 'SBS5', 'SBS13', 'SBS18', 'SBS40']\n",
    "\n",
    "# Urinary-tract\n",
    "# 17b and 5FU sig from colon-rectum extraction. Wanted sigs:7_1.0_SBS31-0.97 ,5FU\n",
    "selected_columns = ['7_1.0_SBS31-0.97']       \n",
    "previous_pcawg = ['SBS1',  'SBS2', 'SBS5', 'SBS6','SBS8', 'SBS13', \n",
    "                  'SBS18', 'SBS40']\n",
    "\n"
   ]
  },
  {
   "cell_type": "markdown",
   "metadata": {},
   "source": [
    "# Processing the data\n"
   ]
  },
  {
   "cell_type": "code",
   "execution_count": 12,
   "metadata": {},
   "outputs": [
    {
     "name": "stdout",
     "output_type": "stream",
     "text": [
      "The autoreload extension is already loaded. To reload it, use:\n",
      "  %reload_ext autoreload\n"
     ]
    }
   ],
   "source": [
    "%load_ext autoreload\n",
    "\n",
    "%autoreload 2"
   ]
  },
  {
   "cell_type": "code",
   "execution_count": 13,
   "metadata": {},
   "outputs": [],
   "source": [
    "import pandas as pd\n",
    "import gzip\n",
    "import pickle\n",
    "import sys, os\n",
    "sys.path.append(\"../signatures/\")\n",
    "from timing_functions import *"
   ]
  },
  {
   "cell_type": "code",
   "execution_count": 15,
   "metadata": {},
   "outputs": [],
   "source": [
    "# load treatment info\n",
    "\n",
    "treatment_sample_level = pickle.load(gzip.open('../signatures/treatment_hartwig_drug_level.pckl.gz'))\n",
    "treatment_sample_days_treatment = pickle.load(gzip.open('../signatures/treatment_hartwig_drug_level_days_treated.pckl.gz'))\n",
    "treatment_sample_days_biopsy_since_end_treatment = pickle.load(gzip.open('../signatures/treatment_hartwig_drug_level_since_end_treat.pckl.gz'))\n",
    "treatment_sample_days_biopsy_since_start_treatment = pickle.load(gzip.open('../signatures/treatment_hartwig_drug_level_since_start_treat.pckl.gz'))\n"
   ]
  },
  {
   "cell_type": "code",
   "execution_count": 16,
   "metadata": {},
   "outputs": [
    {
     "ename": "FileNotFoundError",
     "evalue": "[Errno 2] No such file or directory: '/workspace/projects/reverse_calling/data/mSigAct_res_fin/Colon-Rectum/results.Colon-Rectum.mSigAct.X2_1.0_SBS17b.0.96.10.tsv'",
     "output_type": "error",
     "traceback": [
      "\u001b[0;31m---------------------------------------------------------------------------\u001b[0m",
      "\u001b[0;31mFileNotFoundError\u001b[0m                         Traceback (most recent call last)",
      "\u001b[0;32m<ipython-input-16-6f811e87ed4d>\u001b[0m in \u001b[0;36m<module>\u001b[0;34m\u001b[0m\n\u001b[1;32m      1\u001b[0m \u001b[0mfile_msig\u001b[0m \u001b[0;34m=\u001b[0m \u001b[0;34m'/workspace/projects/reverse_calling/data/mSigAct_res_fin/Colon-Rectum/results.Colon-Rectum.mSigAct.X2_1.0_SBS17b.0.96.10.tsv'\u001b[0m\u001b[0;34m\u001b[0m\u001b[0;34m\u001b[0m\u001b[0m\n\u001b[0;32m----> 2\u001b[0;31m \u001b[0mdf_msig\u001b[0m \u001b[0;34m=\u001b[0m \u001b[0mpd\u001b[0m\u001b[0;34m.\u001b[0m\u001b[0mread_csv\u001b[0m\u001b[0;34m(\u001b[0m\u001b[0mfile_msig\u001b[0m\u001b[0;34m,\u001b[0m \u001b[0msep\u001b[0m \u001b[0;34m=\u001b[0m\u001b[0;34m'\\t'\u001b[0m\u001b[0;34m)\u001b[0m\u001b[0;34m\u001b[0m\u001b[0;34m\u001b[0m\u001b[0m\n\u001b[0m\u001b[1;32m      3\u001b[0m df_exp = pd.read_csv('/workspace/users/opich/bg/mutfootprints_2020/data/hartwig/signatures/extraction/results/exposures/Colon-Rectum.snvs/Colon-Rectum.snvs.exposures.tsv',\n\u001b[1;32m      4\u001b[0m                     sep ='\\t', index_col = 0).T\n",
      "\u001b[0;32m~/anaconda3/envs/evolution_hemato_therapy/lib/python3.9/site-packages/pandas/io/parsers.py\u001b[0m in \u001b[0;36mread_csv\u001b[0;34m(filepath_or_buffer, sep, delimiter, header, names, index_col, usecols, squeeze, prefix, mangle_dupe_cols, dtype, engine, converters, true_values, false_values, skipinitialspace, skiprows, skipfooter, nrows, na_values, keep_default_na, na_filter, verbose, skip_blank_lines, parse_dates, infer_datetime_format, keep_date_col, date_parser, dayfirst, cache_dates, iterator, chunksize, compression, thousands, decimal, lineterminator, quotechar, quoting, doublequote, escapechar, comment, encoding, dialect, error_bad_lines, warn_bad_lines, delim_whitespace, low_memory, memory_map, float_precision, storage_options)\u001b[0m\n\u001b[1;32m    608\u001b[0m     \u001b[0mkwds\u001b[0m\u001b[0;34m.\u001b[0m\u001b[0mupdate\u001b[0m\u001b[0;34m(\u001b[0m\u001b[0mkwds_defaults\u001b[0m\u001b[0;34m)\u001b[0m\u001b[0;34m\u001b[0m\u001b[0;34m\u001b[0m\u001b[0m\n\u001b[1;32m    609\u001b[0m \u001b[0;34m\u001b[0m\u001b[0m\n\u001b[0;32m--> 610\u001b[0;31m     \u001b[0;32mreturn\u001b[0m \u001b[0m_read\u001b[0m\u001b[0;34m(\u001b[0m\u001b[0mfilepath_or_buffer\u001b[0m\u001b[0;34m,\u001b[0m \u001b[0mkwds\u001b[0m\u001b[0;34m)\u001b[0m\u001b[0;34m\u001b[0m\u001b[0;34m\u001b[0m\u001b[0m\n\u001b[0m\u001b[1;32m    611\u001b[0m \u001b[0;34m\u001b[0m\u001b[0m\n\u001b[1;32m    612\u001b[0m \u001b[0;34m\u001b[0m\u001b[0m\n",
      "\u001b[0;32m~/anaconda3/envs/evolution_hemato_therapy/lib/python3.9/site-packages/pandas/io/parsers.py\u001b[0m in \u001b[0;36m_read\u001b[0;34m(filepath_or_buffer, kwds)\u001b[0m\n\u001b[1;32m    460\u001b[0m \u001b[0;34m\u001b[0m\u001b[0m\n\u001b[1;32m    461\u001b[0m     \u001b[0;31m# Create the parser.\u001b[0m\u001b[0;34m\u001b[0m\u001b[0;34m\u001b[0m\u001b[0;34m\u001b[0m\u001b[0m\n\u001b[0;32m--> 462\u001b[0;31m     \u001b[0mparser\u001b[0m \u001b[0;34m=\u001b[0m \u001b[0mTextFileReader\u001b[0m\u001b[0;34m(\u001b[0m\u001b[0mfilepath_or_buffer\u001b[0m\u001b[0;34m,\u001b[0m \u001b[0;34m**\u001b[0m\u001b[0mkwds\u001b[0m\u001b[0;34m)\u001b[0m\u001b[0;34m\u001b[0m\u001b[0;34m\u001b[0m\u001b[0m\n\u001b[0m\u001b[1;32m    463\u001b[0m \u001b[0;34m\u001b[0m\u001b[0m\n\u001b[1;32m    464\u001b[0m     \u001b[0;32mif\u001b[0m \u001b[0mchunksize\u001b[0m \u001b[0;32mor\u001b[0m \u001b[0miterator\u001b[0m\u001b[0;34m:\u001b[0m\u001b[0;34m\u001b[0m\u001b[0;34m\u001b[0m\u001b[0m\n",
      "\u001b[0;32m~/anaconda3/envs/evolution_hemato_therapy/lib/python3.9/site-packages/pandas/io/parsers.py\u001b[0m in \u001b[0;36m__init__\u001b[0;34m(self, f, engine, **kwds)\u001b[0m\n\u001b[1;32m    817\u001b[0m             \u001b[0mself\u001b[0m\u001b[0;34m.\u001b[0m\u001b[0moptions\u001b[0m\u001b[0;34m[\u001b[0m\u001b[0;34m\"has_index_names\"\u001b[0m\u001b[0;34m]\u001b[0m \u001b[0;34m=\u001b[0m \u001b[0mkwds\u001b[0m\u001b[0;34m[\u001b[0m\u001b[0;34m\"has_index_names\"\u001b[0m\u001b[0;34m]\u001b[0m\u001b[0;34m\u001b[0m\u001b[0;34m\u001b[0m\u001b[0m\n\u001b[1;32m    818\u001b[0m \u001b[0;34m\u001b[0m\u001b[0m\n\u001b[0;32m--> 819\u001b[0;31m         \u001b[0mself\u001b[0m\u001b[0;34m.\u001b[0m\u001b[0m_engine\u001b[0m \u001b[0;34m=\u001b[0m \u001b[0mself\u001b[0m\u001b[0;34m.\u001b[0m\u001b[0m_make_engine\u001b[0m\u001b[0;34m(\u001b[0m\u001b[0mself\u001b[0m\u001b[0;34m.\u001b[0m\u001b[0mengine\u001b[0m\u001b[0;34m)\u001b[0m\u001b[0;34m\u001b[0m\u001b[0;34m\u001b[0m\u001b[0m\n\u001b[0m\u001b[1;32m    820\u001b[0m \u001b[0;34m\u001b[0m\u001b[0m\n\u001b[1;32m    821\u001b[0m     \u001b[0;32mdef\u001b[0m \u001b[0mclose\u001b[0m\u001b[0;34m(\u001b[0m\u001b[0mself\u001b[0m\u001b[0;34m)\u001b[0m\u001b[0;34m:\u001b[0m\u001b[0;34m\u001b[0m\u001b[0;34m\u001b[0m\u001b[0m\n",
      "\u001b[0;32m~/anaconda3/envs/evolution_hemato_therapy/lib/python3.9/site-packages/pandas/io/parsers.py\u001b[0m in \u001b[0;36m_make_engine\u001b[0;34m(self, engine)\u001b[0m\n\u001b[1;32m   1048\u001b[0m             )\n\u001b[1;32m   1049\u001b[0m         \u001b[0;31m# error: Too many arguments for \"ParserBase\"\u001b[0m\u001b[0;34m\u001b[0m\u001b[0;34m\u001b[0m\u001b[0;34m\u001b[0m\u001b[0m\n\u001b[0;32m-> 1050\u001b[0;31m         \u001b[0;32mreturn\u001b[0m \u001b[0mmapping\u001b[0m\u001b[0;34m[\u001b[0m\u001b[0mengine\u001b[0m\u001b[0;34m]\u001b[0m\u001b[0;34m(\u001b[0m\u001b[0mself\u001b[0m\u001b[0;34m.\u001b[0m\u001b[0mf\u001b[0m\u001b[0;34m,\u001b[0m \u001b[0;34m**\u001b[0m\u001b[0mself\u001b[0m\u001b[0;34m.\u001b[0m\u001b[0moptions\u001b[0m\u001b[0;34m)\u001b[0m  \u001b[0;31m# type: ignore[call-arg]\u001b[0m\u001b[0;34m\u001b[0m\u001b[0;34m\u001b[0m\u001b[0m\n\u001b[0m\u001b[1;32m   1051\u001b[0m \u001b[0;34m\u001b[0m\u001b[0m\n\u001b[1;32m   1052\u001b[0m     \u001b[0;32mdef\u001b[0m \u001b[0m_failover_to_python\u001b[0m\u001b[0;34m(\u001b[0m\u001b[0mself\u001b[0m\u001b[0;34m)\u001b[0m\u001b[0;34m:\u001b[0m\u001b[0;34m\u001b[0m\u001b[0;34m\u001b[0m\u001b[0m\n",
      "\u001b[0;32m~/anaconda3/envs/evolution_hemato_therapy/lib/python3.9/site-packages/pandas/io/parsers.py\u001b[0m in \u001b[0;36m__init__\u001b[0;34m(self, src, **kwds)\u001b[0m\n\u001b[1;32m   1865\u001b[0m \u001b[0;34m\u001b[0m\u001b[0m\n\u001b[1;32m   1866\u001b[0m         \u001b[0;31m# open handles\u001b[0m\u001b[0;34m\u001b[0m\u001b[0;34m\u001b[0m\u001b[0;34m\u001b[0m\u001b[0m\n\u001b[0;32m-> 1867\u001b[0;31m         \u001b[0mself\u001b[0m\u001b[0;34m.\u001b[0m\u001b[0m_open_handles\u001b[0m\u001b[0;34m(\u001b[0m\u001b[0msrc\u001b[0m\u001b[0;34m,\u001b[0m \u001b[0mkwds\u001b[0m\u001b[0;34m)\u001b[0m\u001b[0;34m\u001b[0m\u001b[0;34m\u001b[0m\u001b[0m\n\u001b[0m\u001b[1;32m   1868\u001b[0m         \u001b[0;32massert\u001b[0m \u001b[0mself\u001b[0m\u001b[0;34m.\u001b[0m\u001b[0mhandles\u001b[0m \u001b[0;32mis\u001b[0m \u001b[0;32mnot\u001b[0m \u001b[0;32mNone\u001b[0m\u001b[0;34m\u001b[0m\u001b[0;34m\u001b[0m\u001b[0m\n\u001b[1;32m   1869\u001b[0m         \u001b[0;32mfor\u001b[0m \u001b[0mkey\u001b[0m \u001b[0;32min\u001b[0m \u001b[0;34m(\u001b[0m\u001b[0;34m\"storage_options\"\u001b[0m\u001b[0;34m,\u001b[0m \u001b[0;34m\"encoding\"\u001b[0m\u001b[0;34m,\u001b[0m \u001b[0;34m\"memory_map\"\u001b[0m\u001b[0;34m,\u001b[0m \u001b[0;34m\"compression\"\u001b[0m\u001b[0;34m)\u001b[0m\u001b[0;34m:\u001b[0m\u001b[0;34m\u001b[0m\u001b[0;34m\u001b[0m\u001b[0m\n",
      "\u001b[0;32m~/anaconda3/envs/evolution_hemato_therapy/lib/python3.9/site-packages/pandas/io/parsers.py\u001b[0m in \u001b[0;36m_open_handles\u001b[0;34m(self, src, kwds)\u001b[0m\n\u001b[1;32m   1360\u001b[0m         \u001b[0mLet\u001b[0m \u001b[0mthe\u001b[0m \u001b[0mreaders\u001b[0m \u001b[0mopen\u001b[0m \u001b[0mIOHanldes\u001b[0m \u001b[0mafter\u001b[0m \u001b[0mthey\u001b[0m \u001b[0mare\u001b[0m \u001b[0mdone\u001b[0m \u001b[0;32mwith\u001b[0m \u001b[0mtheir\u001b[0m \u001b[0mpotential\u001b[0m \u001b[0mraises\u001b[0m\u001b[0;34m.\u001b[0m\u001b[0;34m\u001b[0m\u001b[0;34m\u001b[0m\u001b[0m\n\u001b[1;32m   1361\u001b[0m         \"\"\"\n\u001b[0;32m-> 1362\u001b[0;31m         self.handles = get_handle(\n\u001b[0m\u001b[1;32m   1363\u001b[0m             \u001b[0msrc\u001b[0m\u001b[0;34m,\u001b[0m\u001b[0;34m\u001b[0m\u001b[0;34m\u001b[0m\u001b[0m\n\u001b[1;32m   1364\u001b[0m             \u001b[0;34m\"r\"\u001b[0m\u001b[0;34m,\u001b[0m\u001b[0;34m\u001b[0m\u001b[0;34m\u001b[0m\u001b[0m\n",
      "\u001b[0;32m~/anaconda3/envs/evolution_hemato_therapy/lib/python3.9/site-packages/pandas/io/common.py\u001b[0m in \u001b[0;36mget_handle\u001b[0;34m(path_or_buf, mode, encoding, compression, memory_map, is_text, errors, storage_options)\u001b[0m\n\u001b[1;32m    640\u001b[0m                 \u001b[0merrors\u001b[0m \u001b[0;34m=\u001b[0m \u001b[0;34m\"replace\"\u001b[0m\u001b[0;34m\u001b[0m\u001b[0;34m\u001b[0m\u001b[0m\n\u001b[1;32m    641\u001b[0m             \u001b[0;31m# Encoding\u001b[0m\u001b[0;34m\u001b[0m\u001b[0;34m\u001b[0m\u001b[0;34m\u001b[0m\u001b[0m\n\u001b[0;32m--> 642\u001b[0;31m             handle = open(\n\u001b[0m\u001b[1;32m    643\u001b[0m                 \u001b[0mhandle\u001b[0m\u001b[0;34m,\u001b[0m\u001b[0;34m\u001b[0m\u001b[0;34m\u001b[0m\u001b[0m\n\u001b[1;32m    644\u001b[0m                 \u001b[0mioargs\u001b[0m\u001b[0;34m.\u001b[0m\u001b[0mmode\u001b[0m\u001b[0;34m,\u001b[0m\u001b[0;34m\u001b[0m\u001b[0;34m\u001b[0m\u001b[0m\n",
      "\u001b[0;31mFileNotFoundError\u001b[0m: [Errno 2] No such file or directory: '/workspace/projects/reverse_calling/data/mSigAct_res_fin/Colon-Rectum/results.Colon-Rectum.mSigAct.X2_1.0_SBS17b.0.96.10.tsv'"
     ]
    }
   ],
   "source": [
    "file_msig = '../../data/mSigAct_res_fin/Colon-Rectum/results.Colon-Rectum.mSigAct.X2_1.0_SBS17b.0.96.10.tsv'\n",
    "df_msig = pd.read_csv(file_msig, sep ='\\t')\n",
    "df_exp = pd.read_csv('../../data/mutfootprints_2020/data/hartwig/signatures/extraction/results/exposures/Colon-Rectum.snvs/Colon-Rectum.snvs.exposures.tsv',\n",
    "                    sep ='\\t', index_col = 0).T"
   ]
  },
  {
   "cell_type": "code",
   "execution_count": 8,
   "metadata": {},
   "outputs": [
    {
     "name": "stdout",
     "output_type": "stream",
     "text": [
      "here\n"
     ]
    },
    {
     "data": {
      "image/png": "[encoded data removed]",
      "text/plain": [
       "<Figure size 25x100 with 1 Axes>"
      ]
     },
     "metadata": {},
     "output_type": "display_data"
    },
    {
     "name": "stderr",
     "output_type": "stream",
     "text": [
      "../signatures/timing_functions.py:190: UserWarning: Tight layout not applied. The bottom and top margins cannot be made large enough to accommodate all axes decorations. \n",
      "  prox_v = 0\n"
     ]
    },
    {
     "data": {
      "image/png": "[encoded data removed]",
      "text/plain": [
       "<Figure size 125x100 with 2 Axes>"
      ]
     },
     "metadata": {},
     "output_type": "display_data"
    }
   ],
   "source": [
    "\n",
    "\n",
    "drug = 'Capecitabine'\n",
    "ttype = 'Colon-Rectum'\n",
    "\n",
    "# finding agreement between exposures. This will partially create Figure 2B\n",
    "agree_exposed, agree_not_exposed = create_subtypes(treatment_sample_level, ttype, drug, df_msig,\n",
    "                df_exp, 0.05, sig_found = True)\n",
    "\n",
    "# get timing stats\n",
    "t = get_timing_stats(agree_exposed, agree_not_exposed,drug, \n",
    "                    treatment_sample_days_treatment, treatment_sample_days_biopsy_since_start_treatment,\n",
    "                    treatment_sample_days_biopsy_since_end_treatment)\n",
    "\n",
    "exposed_days, notexposed_days, exposed_days_since_start, notexposed_days_since_start, exposed_days_since_end, notexposed_days_since_end  = t\n",
    "\n",
    "\n",
    "# plot differences between times of treatment \n",
    "plot_timing_distributions(exposed_days, notexposed_days, exposed_days_since_start, \n",
    "                          notexposed_days_since_start, exposed_days_since_end, notexposed_days_since_end, \n",
    "                      drug, ttype, 900, 3000)\n",
    "\n",
    "\n"
   ]
  },
  {
   "cell_type": "code",
   "execution_count": null,
   "metadata": {},
   "outputs": [],
   "source": []
  }
 ],
 "metadata": {
  "kernelspec": {
   "display_name": "Python 2",
   "language": "python",
   "name": "python2"
  },
  "language_info": {
   "codemirror_mode": {
    "name": "ipython",
    "version": 2
   },
   "file_extension": ".py",
   "mimetype": "text/x-python",
   "name": "python",
   "nbconvert_exporter": "python",
   "pygments_lexer": "ipython2",
   "version": "2.7.18"
  },
  "toc": {
   "base_numbering": 1,
   "nav_menu": {},
   "number_sections": true,
   "sideBar": true,
   "skip_h1_title": false,
   "title_cell": "Table of Contents",
   "title_sidebar": "Contents",
   "toc_cell": false,
   "toc_position": {},
   "toc_section_display": true,
   "toc_window_display": false
  }
 },
 "nbformat": 4,
 "nbformat_minor": 2
}
