{
 "cells": [
  {
   "cell_type": "code",
   "execution_count": null,
   "metadata": {},
   "outputs": [],
   "source": [
    "%load_ext autoreload\n",
    "%autoreload 2"
   ]
  },
  {
   "cell_type": "code",
   "execution_count": null,
   "metadata": {},
   "outputs": [],
   "source": [
    "import sys\n",
    "sys.path.append(\"../analysis/\")"
   ]
  },
  {
   "cell_type": "markdown",
   "metadata": {},
   "source": [
    "# 3A"
   ]
  },
  {
   "cell_type": "code",
   "execution_count": null,
   "metadata": {},
   "outputs": [],
   "source": [
    "sys.path.append(\"../signatures/\")\n",
    "from sig_ml import doMLsignatures\n",
    "from clonality import return_clon_dict, load_clonality_treatment, boxplot_clonality\n",
    "import pickle\n",
    "import gzip\n",
    "\n",
    "sys.path.append(\"../config/\")\n",
    "from config import ALL_MUTS, SIG_ALL_AML_EXPOSURES, SIG_ALL_AML_PROCESSES, ML_SIGNATURES"
   ]
  },
  {
   "cell_type": "code",
   "execution_count": null,
   "metadata": {},
   "outputs": [],
   "source": [
    "# Example on how to generate ML signatures. This should be generated for the three datasets.\n",
    "# for more info, please read the mutational footprints of cancer therapies, NatGen, 2019.\n",
    "\n",
    "type_mut = 'SNV'\n",
    "\n",
    "doMLsignatures(ALL_MUTS, SIG_ALL_AML_PROCESSES, SIG_ALL_AML_EXPOSURES, type_mut, ML_SIGNATURES, annotate=True)"
   ]
  },
  {
   "cell_type": "code",
   "execution_count": null,
   "metadata": {},
   "outputs": [],
   "source": [
    "import pandas as pd\n",
    "import json\n",
    "from config import AML_ALL_HEMATO_ML, TREATMENT_DIC\n",
    "\n",
    "# tAML platin\n",
    "df_ml = pd.read_csv(AML_ALL_HEMATO_ML, sep =\"\\t\")\n",
    "\n",
    "sig_cols = df_ml['ML'].unique().tolist()\n",
    "signature_treatment = '1_0.97_SBS31-0.95'\n",
    "\n",
    "# Get treated samples\n",
    "dic_treatment = json.load(open(TREATMENT_DIC))\n",
    "platinum_based = []\n",
    "for sample, l in dic_treatment.items():\n",
    "    if 'Platinum-based Drug' in l:\n",
    "        platinum_based.append(str(sample))\n",
    "\n",
    "platinum_based.append(str(864484))\n",
    "dic_clon = return_clon_dict(df_ml, sig_cols, platinum_based, signature_treatment)\n",
    "healthy = dic_clon[signature_treatment]"
   ]
  },
  {
   "cell_type": "code",
   "execution_count": null,
   "metadata": {},
   "outputs": [],
   "source": [
    "from config import ML_OVARY, ML_UT, SIG_TREATMENT_DRUG_LVL, FIG_3\n",
    "\n",
    "# Load HMF treatment data\n",
    "hartwig_treated = pickle.load(gzip.open(SIG_TREATMENT_DRUG_LVL))\n",
    "\n",
    "# Ovary\n",
    "sig_treated = '6_1.0_SBS31-0.92'\n",
    "all_treat = hartwig_treated['Ovary']['Carboplatin'] | hartwig_treated['Ovary']['Cisplatin']\n",
    "ovary_t = load_clonality_treatment(ML_OVARY, sig_treated, all_treat)\n",
    "\n",
    "# Urinary Tract\n",
    "sig_treated = '7_1.0_SBS31-0.97'\n",
    "all_treat = hartwig_treated['Urinary-tract']['Carboplatin'] | hartwig_treated['Urinary-tract']['Cisplatin']\n",
    "urinary_t = load_clonality_treatment(ML_UT, sig_treated, all_treat)"
   ]
  },
  {
   "cell_type": "code",
   "execution_count": null,
   "metadata": {},
   "outputs": [],
   "source": [
    "boxplot_clonality(healthy, ovary_t, urinary_t, FIG_3 )"
   ]
  },
  {
   "cell_type": "markdown",
   "metadata": {},
   "source": [
    "# 3B\n"
   ]
  },
  {
   "cell_type": "code",
   "execution_count": null,
   "metadata": {},
   "outputs": [],
   "source": [
    "sys.path.append(\"../signatures/\")\n",
    "\n",
    "from profiles import plot_snvs\n",
    "from config import BOXTEL"
   ]
  },
  {
   "cell_type": "code",
   "execution_count": null,
   "metadata": {},
   "outputs": [],
   "source": [
    "hcss = ['AC41HSC3', 'AC63HSCc2', \n",
    "       'ACC55HSC15','ACHSC19', 'ACHSC23',\n",
    "        'ACHSC7', 'ACHSCc6',\n",
    "       'ACHSCc8','BCHHSC4']\n",
    "\n",
    "df_boxtel = pd.read_csv(BOXTEL, sep ='\\t')\n",
    "mean_counts = df_boxtel[hcss].mean(axis = 1)\n",
    "normalized = mean_counts/mean_counts.sum()\n",
    "\n",
    "plot_snvs(normalized, \"HSC\", FIG_3 )"
   ]
  },
  {
   "cell_type": "markdown",
   "metadata": {},
   "source": [
    "# 3C\n",
    "\n"
   ]
  },
  {
   "cell_type": "code",
   "execution_count": null,
   "metadata": {},
   "outputs": [],
   "source": [
    "import sys\n",
    "import pandas as pd \n",
    "import json\n",
    "\n",
    "sys.path.append(\"../analysis/\")\n",
    "\n",
    "from age_corr import do_plot\n",
    "from config import OSORIO_METADATA, LIST_TTYPE, SAMPLE_2_AGE,  FIG_3"
   ]
  },
  {
   "cell_type": "code",
   "execution_count": null,
   "metadata": {},
   "outputs": [],
   "source": [
    "df_exp = pd.read_csv(SIG_ALL_AML_EXPOSURES, sep ='\\t', index_col = 0).T\n",
    "exposures = df_exp[df_exp['2_0.97_NA']>0]\n",
    "\n",
    "high_mut_platinum = ['AP0390_AP0395', 'AP0388_AP0389', 'SRR1802228_SRR1800776', 'SRR388810_SRR388850', \n",
    "                    'SRR1802754_SRR1802621', 'PATIENT_WTS_1_TUM1_PATIENT_WTS_1_BUC',\n",
    "                     'PATIENT_WTS_3_TUM1_PATIENT_WTS_3_BUC', 'SRR1802711_SRR1802494']\n",
    "\n",
    "dic_samples_ttypes = json.load(open(LIST_TTYPE))\n",
    "dic_aging_sample_level = json.load(open(SAMPLE_2_AGE))\n",
    "\n",
    "meta_hsc = pd.read_csv(OSORIO_METADATA, sep ='\\t')\n",
    "dic_HSC = dict(zip(meta_hsc['Identifier'], meta_hsc['Age (years)']))"
   ]
  },
  {
   "cell_type": "code",
   "execution_count": null,
   "metadata": {},
   "outputs": [],
   "source": [
    "do_plot(exposures.T.loc[['2_0.97_NA']], 'SigProfiler', high_mut_platinum, FIG_3, \n",
    "       dic_samples_ttypes, dic_aging_sample_level, dic_HSC)"
   ]
  },
  {
   "cell_type": "markdown",
   "metadata": {},
   "source": [
    "# 3D"
   ]
  },
  {
   "cell_type": "code",
   "execution_count": null,
   "metadata": {},
   "outputs": [],
   "source": [
    "from config import OHSU_DATA_CLINICAL, OHSU_DATA_MUTATIONS, AML_INTOGEN\n",
    "\n",
    "from beatAML import do_barplot"
   ]
  },
  {
   "cell_type": "code",
   "execution_count": null,
   "metadata": {
    "scrolled": false
   },
   "outputs": [],
   "source": [
    "# This is from CBIOPORTAL, even though the IntoGen run was done using the raw data because CBIOPORTAL does \n",
    "# not have synonymous mutations\n",
    "\n",
    "\n",
    "do_barplot(OHSU_DATA_MUTATIONS, OHSU_DATA_CLINICAL, AML_INTOGEN, FIG_3)"
   ]
  },
  {
   "cell_type": "markdown",
   "metadata": {},
   "source": [
    "# 3F"
   ]
  },
  {
   "cell_type": "code",
   "execution_count": null,
   "metadata": {},
   "outputs": [],
   "source": [
    "from beatAML import odds_ratio_tAMLs"
   ]
  },
  {
   "cell_type": "code",
   "execution_count": null,
   "metadata": {
    "scrolled": false
   },
   "outputs": [],
   "source": [
    "# This is from CBIOPORTAL, even though the IntoGen run was done using the raw data because CBIOPORTAL does \n",
    "# not have synonymous mutations\n",
    "\n",
    "odds_ratio_tAMLs(OHSU_DATA_MUTATIONS, OHSU_DATA_CLINICAL, AML_INTOGEN, FIG_3)"
   ]
  },
  {
   "cell_type": "markdown",
   "metadata": {},
   "source": [
    "# Supplementary Figures"
   ]
  },
  {
   "cell_type": "markdown",
   "metadata": {},
   "source": [
    "## 4A"
   ]
  },
  {
   "cell_type": "code",
   "execution_count": null,
   "metadata": {},
   "outputs": [],
   "source": [
    "from collections import defaultdict\n",
    "\n",
    "# Import modules\n",
    "import matplotlib as mpl\n",
    "import matplotlib.pyplot as plt\n",
    "from scipy.stats import mannwhitneyu\n",
    "import itertools\n",
    "import seaborn as sns\n",
    "import numpy as np\n",
    "import random\n",
    "\n",
    "sys.path.append(\"../config/\")\n",
    "from config_plot import config_plot_params"
   ]
  },
  {
   "cell_type": "code",
   "execution_count": null,
   "metadata": {},
   "outputs": [],
   "source": [
    "# generate order of SBS\n",
    "def snvs_order():\n",
    "    order = []\n",
    "    first = ['A', 'C', 'G', 'T']\n",
    "    pyr = ['C', 'T']\n",
    "    for p in pyr:\n",
    "        for mut in first:\n",
    "            if mut != p:\n",
    "                for f in first:\n",
    "                    for f2 in first:\n",
    "                        comb = '{}[{}>{}]{}'.format(f, p, mut, f2)\n",
    "                        order.append(comb)\n",
    "    return order\n",
    "\n",
    "df_m = pd.read_csv(ALL_MUTS, sep =\"\\t\")\n",
    "clonal = df_m[df_m[\"Clonal1\"]==\"clonal\"]\n",
    "\n",
    "samples_dict = defaultdict(dict)\n",
    "order = snvs_order()\n",
    "\n",
    "for sample, data in clonal.groupby(by='SAMPLE'):\n",
    "    dic_count = data['VARIANT_CLASS'].value_counts().to_dict()\n",
    "    for i in order:\n",
    "        samples_dict[sample][i] = dic_count.get(i, 0)\n",
    "\n",
    "matrix = pd.DataFrame.from_dict(samples_dict)\n",
    "matrix = matrix.loc[order]"
   ]
  },
  {
   "cell_type": "code",
   "execution_count": null,
   "metadata": {},
   "outputs": [],
   "source": [
    "plat_treated = ['SRR388810_SRR388850',\n",
    " 'SRR1802228_SRR1800776',\n",
    " 'SRR1802754_SRR1802621',\n",
    " 'AP0388_AP0389',\n",
    "'PATIENT_WTS_1_TUM1_PATIENT_WTS_1_BUC',\n",
    " 'AP0390_AP0395',\n",
    " 'PATIENT_WTS_3_TUM1_PATIENT_WTS_3_BUC',\n",
    "    ]"
   ]
  },
  {
   "cell_type": "code",
   "execution_count": null,
   "metadata": {},
   "outputs": [],
   "source": [
    "# Path with output\n",
    "exp = \"/workspace/projects/reverse_calling/rebuttle/extractions/SigProfiler/results/exposures/input_snvs_clonals/input_snvs_clonals.exposures.tsv\"\n",
    "\n",
    "dfexp = pd.read_csv(exp, sep =\"\\t\", index_col = 0).T\n",
    "sample_suspicious = \"SRR1802711_SRR1802494\"\n",
    "\n",
    "new_index = [s for s in dfexp.index.tolist() if s != sample_suspicious]\n",
    "dfexp = dfexp.loc[new_index]\n",
    "\n",
    "dic_exposures = dfexp.to_dict()\n",
    "\n",
    "plat_dec = [dic_exposures['6_0.97_SBS31-0.94'][s] for s in plat_treated]\n",
    "noplat_dec = [dic_exposures['6_0.97_SBS31-0.94'][s] for s in dic_exposures['6_0.97_SBS31-0.94'].keys() if s not in plat_treated]\n",
    "\n",
    "\n",
    "config_params(5)\n",
    "fig, ax = plt.subplots(1, 1, figsize = (1,1.3))\n",
    "\n",
    "v = [noplat_dec, plat_dec]\n",
    "\n",
    "print(mannwhitneyu(noplat_dec, plat_dec, alternative='two-sided' ))\n",
    "\n",
    "c1 = ['#0088aaff' for i in noplat_dec]\n",
    "c3 = ['brown' for i in plat_dec]\n",
    "cols = c1+c3\n",
    "x = list(itertools.chain.from_iterable([[0 + i] * len(l) for i, l in enumerate(v)]))\n",
    "x += np.random.normal(0, 0.05, size=len(x))\n",
    "y = list(itertools.chain.from_iterable(v))\n",
    "\n",
    "\n",
    "\n",
    "ax=sns.boxplot(data=v, showfliers=False, color = 'white',\n",
    "            medianprops={'color':'black'}, linewidth = 0.4, ax = ax) #zorder=0\n",
    "                  #boxprops=dict(alpha=0.5), \n",
    "ax.scatter(x, y, s=1, alpha=1,\n",
    "              color=cols,  )  # scatter zorder=5\n",
    "\n",
    "plt.xticks([0, 1], ['other samples',\n",
    "                    'platinum-treated tAML'], rotation = 90)\n",
    "ax.spines['top'].set_visible(False)\n",
    "ax.spines['right'].set_visible(False)\n",
    "\n",
    "plt.ylabel('Clonal cisplatin-related\\nmutations\\n')\n",
    "plt.show()"
   ]
  },
  {
   "cell_type": "markdown",
   "metadata": {},
   "source": [
    "## 4C"
   ]
  },
  {
   "cell_type": "markdown",
   "metadata": {},
   "source": [
    "For figure 3C we should remove samples with high exposure to artefactual signatures, do a de novo extraction and rerun the main3C panel. We are writting here how to filter the samples"
   ]
  },
  {
   "cell_type": "code",
   "execution_count": null,
   "metadata": {},
   "outputs": [],
   "source": [
    "# Get the extracted signatures too\n",
    "from config import SIG_ALL_AML_EXPOSURES\n",
    "\n",
    "ext = pd.read_csv(SIG_ALL_AML_EXPOSURES, sep= \"\\t\", index_col = 0).T\n",
    "\n",
    "ext = ext.T.drop(\"SRR1802711_SRR1802494\", axis = 1).T\n",
    "ext_no_art = ext[(ext['5_1.0_SBS43-0.91']<300)&(ext[\"6_1.0_SBS58-0.87\"]<300) &\n",
    "                 (ext[\"4_0.81_NA\"]<300)].index.tolist()\n",
    "\n",
    "new_df = df_in[ext_no_art]\n",
    "\n",
    "# Change it to your path\n",
    "new_df.to_csv('extractions/input_snvs_noartifacts.dlm',\n",
    "              sep ='\\t', index = False, header = True)"
   ]
  },
  {
   "cell_type": "markdown",
   "metadata": {},
   "source": [
    "## 4D"
   ]
  },
  {
   "cell_type": "code",
   "execution_count": null,
   "metadata": {},
   "outputs": [],
   "source": [
    "import sys\n",
    "import pandas as pd \n",
    "import json\n",
    "\n",
    "from beatAML import do_heatmap"
   ]
  },
  {
   "cell_type": "code",
   "execution_count": null,
   "metadata": {},
   "outputs": [],
   "source": [
    "# This is from CBIOPORTAL, even though the IntoGen run was done using the raw data because CBIOPORTAL does \n",
    "# not have synonymous mutations\n",
    "\n",
    "do_heatmap(OHSU_DATA_MUTATIONS, OHSU_DATA_CLINICAL, AML_INTOGEN, FIG_3)"
   ]
  },
  {
   "cell_type": "code",
   "execution_count": null,
   "metadata": {},
   "outputs": [],
   "source": []
  }
 ],
 "metadata": {
  "kernelspec": {
   "display_name": "Python 3",
   "language": "python",
   "name": "python3"
  },
  "language_info": {
   "codemirror_mode": {
    "name": "ipython",
    "version": 3
   },
   "file_extension": ".py",
   "mimetype": "text/x-python",
   "name": "python",
   "nbconvert_exporter": "python",
   "pygments_lexer": "ipython3",
   "version": "3.8.3"
  },
  "toc": {
   "base_numbering": 1,
   "nav_menu": {},
   "number_sections": true,
   "sideBar": true,
   "skip_h1_title": false,
   "title_cell": "Table of Contents",
   "title_sidebar": "Contents",
   "toc_cell": false,
   "toc_position": {},
   "toc_section_display": true,
   "toc_window_display": false
  }
 },
 "nbformat": 4,
 "nbformat_minor": 2
}
