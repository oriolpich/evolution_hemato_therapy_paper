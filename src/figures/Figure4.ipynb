{
 "cells": [
  {
   "cell_type": "code",
   "execution_count": null,
   "metadata": {},
   "outputs": [],
   "source": [
    "import json\n",
    "import sys\n",
    "import pandas as pd\n",
    "import pandas as pd\n",
    "import matplotlib.pyplot as plt\n",
    "import seaborn as sns\n",
    "from collections import defaultdict\n",
    "import numpy as np\n",
    "\n",
    "# Import modules\n",
    "import matplotlib as mpl\n",
    "import numpy as np\n",
    "from scipy.stats import fisher_exact\n",
    "from statsmodels.stats.contingency_tables import Table2x2\n",
    "import statsmodels.api as sm\n",
    "from statsmodels.stats.multitest import multipletests\n",
    "\n",
    "sys.path.append(\"../config/\")\n",
    "from config_plot import config_plot_params"
   ]
  },
  {
   "cell_type": "markdown",
   "metadata": {},
   "source": [
    "# 4B"
   ]
  },
  {
   "cell_type": "code",
   "execution_count": null,
   "metadata": {
    "code_folding": [
     0
    ]
   },
   "outputs": [],
   "source": [
    "# genes in discovery\n",
    "\n",
    "unique_set = {'ABL2',\n",
    " 'AFF3',\n",
    " 'APC',\n",
    " 'AR',\n",
    " 'ARID2',\n",
    " 'ASXL1',\n",
    " 'ATE1',\n",
    " 'ATM',\n",
    " 'BCOR',\n",
    " 'CALR',\n",
    " 'CBL',\n",
    " 'CDKN1B',\n",
    " 'CEBPA',\n",
    " 'CHEK2',\n",
    " 'CSF3R',\n",
    " 'CTCF',\n",
    " 'CUX1',\n",
    " 'DNM2',\n",
    " 'DNMT3A',\n",
    " 'DNMT3B',\n",
    " 'ERCC2',\n",
    " 'ERF',\n",
    " 'ETNK1',\n",
    " 'EZH2',\n",
    " 'FLT3',\n",
    " 'FOXP1',\n",
    " 'GATA2',\n",
    " 'GNAS',\n",
    " 'GNB1',\n",
    " 'IDH1',\n",
    " 'IDH2',\n",
    " 'IKZF1',\n",
    " 'JAK2',\n",
    " 'KDM5C',\n",
    " 'KDM6A',\n",
    " 'KIT',\n",
    " 'KMT2C',\n",
    " 'KMT2D',\n",
    " 'KRAS',\n",
    " 'LZTR1',\n",
    " 'MDM4',\n",
    " 'MGA',\n",
    " 'MKL1',\n",
    " 'MPL',\n",
    " 'MYCN',\n",
    " 'MYD88',\n",
    " 'MYO5A',\n",
    " 'NBPF1',\n",
    " 'NF1',\n",
    " 'NOTCH1',\n",
    " 'NPM1',\n",
    " 'NRAS',\n",
    " 'PABPC1',\n",
    " 'PCMTD1',\n",
    " 'PHF6',\n",
    " 'PPARG',\n",
    " 'PPM1D',\n",
    " 'PTPN11',\n",
    " 'PTPRD',\n",
    " 'PUF60',\n",
    " 'RAD21',\n",
    " 'RET',\n",
    " 'RUNX1',\n",
    " 'SDHAF2',\n",
    " 'SF3B1',\n",
    " 'SH2B3',\n",
    " 'SMC1A',\n",
    " 'SRSF2',\n",
    " 'STAG2',\n",
    " 'STAT3',\n",
    " 'STAT5B',\n",
    " 'SUZ12',\n",
    " 'TET2',\n",
    " 'TLR1',\n",
    " 'TMEM127',\n",
    " 'TP53',\n",
    " 'TP63',\n",
    " 'U2AF1',\n",
    " 'ZRSR2'}"
   ]
  },
  {
   "cell_type": "code",
   "execution_count": null,
   "metadata": {},
   "outputs": [],
   "source": [
    "from config import OHSU_DATA_MUTATIONS, OHSU_DATA_CLINICAL\n",
    "\n",
    "# BeatAML mutations from cbioportal\n",
    "muts_cbioport = pd.read_csv(OHSU_DATA_MUTATIONS, sep ='\\t')\n",
    "muts_cbioport['SAMPLE'] = muts_cbioport['Tumor_Sample_Barcode'].apply(lambda x : x.split('_')[-1])\n",
    "\n",
    "# Metadata from cbioportal\n",
    "df_metadata_beat = pd.read_csv(OHSU_DATA_CLINICAL, sep ='\\t', skiprows=4)\n",
    "\n",
    "C_A = ['15-00056', '14-00527', '16-00118']\n",
    "\n",
    "df_metadata_beat['SAMPLE'] = df_metadata_beat['SAMPLE_ID'].apply(lambda x : x.split('_')[-1])\n",
    "\n",
    "sample_taml_beat = df_metadata_beat[(df_metadata_beat['SPECIFIC_DIAGNOSIS_AT_INCLUSION']=='Therapy-related myeloid neoplasms')]['SAMPLE'].unique()\n",
    "\n",
    "muts_cbio = muts_cbioport[['Hugo_Symbol', 'Chromosome', 'Start_Position', 'Consequence','Variant_Type', 'short_aa_change', \n",
    "           'Tumor_Sample_Barcode', 'Reference_Allele', 'Tumor_Seq_Allele2', 'SAMPLE']].drop_duplicates()\n",
    "\n",
    "muts_cbio['tAML'] = muts_cbio['SAMPLE'].apply(lambda x : 'tAML' if x in sample_taml_beat else 'primaryAML')"
   ]
  },
  {
   "cell_type": "code",
   "execution_count": null,
   "metadata": {},
   "outputs": [],
   "source": [
    "# somatic mutations found in blood in HMF and TCGA, from:\n",
    "# Discovering the drivers of clonal hematopoiesis, https://www.biorxiv.org/content/10.1101/2020.10.22.350140v1\n",
    "\n",
    "coding_variants_merged = pd.read_csv('/home/opich/bg/temp/merged_hmf_tcga.gz', sep ='\\t')"
   ]
  },
  {
   "cell_type": "code",
   "execution_count": null,
   "metadata": {},
   "outputs": [],
   "source": [
    "# dictionary with cytotoxic-related drugs in HMF. \n",
    "cytotox = json.load(open('/home/opich/bg/mutpro/src/reverse_calling/citotoxic.json'))\n",
    "treated_full = coding_variants_merged[coding_variants_merged['NEW_S'].isin(cytotox)]\n",
    "untreated_full = coding_variants_merged[~coding_variants_merged['NEW_S'].isin(cytotox)]"
   ]
  },
  {
   "cell_type": "code",
   "execution_count": null,
   "metadata": {},
   "outputs": [],
   "source": [
    "set_muts_CH = treated_full[~treated_full['Consequence'].isin(['synonymous_variant', 'inframe_deletion', \n",
    "                                                            'inframe_insertion'])]\n",
    "\n",
    "set_muts_CH[\"short_aa_change\"] = set_muts_CH[\"Protein_position\"] + set_muts_CH[\"Amino_acids\"]\n",
    "\n",
    "set_muts_taml = muts_cbio[muts_cbio['tAML']=='tAML']\n",
    "set_muts_taml = set_muts_taml[~set_muts_taml[\"short_aa_change\"].isnull()]\n",
    "dic_compar = defaultdict(dict)\n",
    "\n",
    "for gene in unique_set:\n",
    "    \n",
    "    muts_CH = len(set_muts_CH[(set_muts_CH['SYMBOL']==gene)]['SAMPLE'].unique())\n",
    "    muts_tAML = len(set_muts_taml[set_muts_taml['Hugo_Symbol']==gene]['SAMPLE'].unique())\n",
    "        \n",
    "    if gene == \"DNMT3A\":\n",
    "        \n",
    "        muts_CH = len(set_muts_CH[(set_muts_CH['SYMBOL']==gene)&(set_muts_CH[\"short_aa_change\"].str.contains('882R'))]['SAMPLE'].unique())\n",
    "        muts_tAML = len(set_muts_taml[(set_muts_taml['Hugo_Symbol']==gene)&(set_muts_taml[\"short_aa_change\"].str.contains('R882'))]['SAMPLE'].unique())\n",
    "        dic_compar['CH'][\"DNMT3A p.R882\"] = muts_CH\n",
    "        dic_compar['tAML'][\"DNMT3A p.R882\"] = muts_tAML\n",
    "        muts_CH = len(set_muts_CH[(set_muts_CH['SYMBOL']==gene)&(~set_muts_CH[\"short_aa_change\"].str.contains('882R'))]['SAMPLE'].unique())\n",
    "        muts_tAML = len(set_muts_taml[(set_muts_taml['Hugo_Symbol']==gene)&(~set_muts_taml[\"short_aa_change\"].str.contains('R882'))]['SAMPLE'].unique())\n",
    "        dic_compar['CH'][\"DNMT3A other\"] = muts_CH\n",
    "        dic_compar['tAML'][\"DNMT3A other\"] = muts_tAML\n",
    "\n",
    "    elif (muts_CH>0)&(muts_tAML>0):\n",
    "        dic_compar['CH'][gene] = muts_CH\n",
    "        dic_compar['tAML'][gene] = muts_tAML\n",
    "\n",
    "res = pd.DataFrame(dic_compar)\n",
    "\n",
    "total_prim = res['CH'].sum()\n",
    "total_tAML = res['tAML'].sum()\n",
    "keep_res = {}\n",
    "\n",
    "xlab = []\n",
    "for ix, (i, row) in enumerate(res.sort_values(by='tAML', ascending = False).head(40).iterrows()):\n",
    "    t = Table2x2([[row['tAML'], total_tAML],\n",
    "                 [row['CH'], total_prim]])\n",
    "    pval = t.oddsratio_pvalue()\n",
    "    o = t.oddsratio_confint()\n",
    "    cmin, cmax = o\n",
    "    odds = t.oddsratio\n",
    "    \n",
    "    edge = 'white'\n",
    "    color = 'orange'\n",
    "\n",
    "    if odds >1:\n",
    "        color = 'darkred'\n",
    "    \n",
    "    if pval <0.05:\n",
    "        edge = 'black'\n",
    "    \n",
    "    keep_res[i] = (np.log2(odds), np.log2(cmin), np.log2(cmax), pval )\n"
   ]
  },
  {
   "cell_type": "code",
   "execution_count": null,
   "metadata": {},
   "outputs": [],
   "source": [
    "tt_df = pd.DataFrame(keep_res, index = ['Val', 'LC', 'HC', 'pvalue']).T\n",
    "\n",
    "qvals = multipletests(tt_df.pvalue, alpha=0.05, method='fdr_bh')\n",
    "tt_df['QVAL'] = qvals[1]\n",
    "#res_reg = age_gene.loc[wanted_genes[:10]].sort_values(by='Val', ascending = True)\n",
    "res_reg = tt_df.sort_values(by='pvalue', ascending = True).head(20)\n",
    "\n",
    "config_params(5)\n",
    "fig, ax = plt.subplots(1, 1, figsize = (1.5,2.5))\n",
    "labels = []\n",
    "plt.title('t-CH vs t-AML')\n",
    "for ix, (i, row) in enumerate(res_reg.sort_values(by='pvalue', ascending = False).iterrows()):\n",
    "    \n",
    "    edgecolor = 'white'\n",
    "    if row['QVAL']<0.1:\n",
    "        edgecolor = 'black'\n",
    "    \n",
    "    color = 'orange'\n",
    "    if row['Val']>0:\n",
    "        color = 'darkred'\n",
    "    plt.scatter( row['Val'], ix, color = color, edgecolor = edgecolor)\n",
    "    plt.plot([row['LC'], row['HC']], [ix, ix], color = color)\n",
    "    labels.append(i)\n",
    "\n",
    "plt.yticks(np.arange(len(res_reg)), [\"$\\it{0}$\".format(lab) for lab in labels] )\n",
    "ax.spines['top'].set_visible(False)\n",
    "ax.spines['right'].set_visible(False)\n",
    "plt.vlines(0, 0, len(res_reg), ls = '--', color = 'grey')\n",
    "#plt.xlim(0, 7)\n",
    "plt.xlabel('Log2(odds-ratio)')\n",
    "#plt.savefig('/home/opich/bg/temp/odds_t-CH_tAML.svg')\n",
    "plt.show()"
   ]
  },
  {
   "cell_type": "markdown",
   "metadata": {},
   "source": [
    "# 4C"
   ]
  },
  {
   "cell_type": "code",
   "execution_count": null,
   "metadata": {},
   "outputs": [],
   "source": [
    "import sys\n",
    "import itertools\n",
    "import pickle, gzip\n",
    "sys.path.append(\"../config/\")\n",
    "from config import SIG_ALL_AML_EXPOSURES, SIG_TREATMENT_DRUG_LVL"
   ]
  },
  {
   "cell_type": "code",
   "execution_count": null,
   "metadata": {},
   "outputs": [],
   "source": [
    "AML_exposures = pd.read_csv(SIG_ALL_AML_EXPOSURES, sep ='\\t', index_col = 0).T"
   ]
  },
  {
   "cell_type": "code",
   "execution_count": null,
   "metadata": {},
   "outputs": [],
   "source": [
    "set_H = AML_exposures[(AML_exposures['1_0.97_SBS31-0.95']>500)&\n",
    "                     (AML_exposures['2_0.97_NA']>0)]['2_0.97_NA'].tolist()\n",
    "set_CIS = AML_exposures[(AML_exposures['1_0.97_SBS31-0.95']>500)&\n",
    "                     (AML_exposures['2_0.97_NA']>0)]['1_0.97_SBS31-0.95'].tolist()\n",
    "fig, ax = plt.subplots(1, 1, figsize = (1,1))\n",
    "\n",
    "plt.scatter(np.zeros(len(set_H)), set_H, color = 'grey', label = 'HSC', s = 5)\n",
    "plt.scatter(np.ones(len(set_CIS)), set_CIS, color = 'darkred', label = 'Platinum', s = 5)\n",
    "\n",
    "for v1, v2 in zip(set_H, set_CIS):\n",
    "    \n",
    "    plt.plot([0, 1], [v1, v2], color = 'grey', lw = 0.2, ls = '--')\n",
    "\n",
    "plt.ylabel('Number of mutations')\n",
    "\n",
    "ax.spines['top'].set_visible(False)\n",
    "ax.spines['right'].set_visible(False)\n",
    "\n",
    "plt.legend(bbox_to_anchor = [1,1])\n",
    "#plt.savefig('/home/opich/bg/temp/scatter_sigs.svg')\n",
    "plt.xlim(-0.5, 1.5)\n",
    "plt.show()"
   ]
  },
  {
   "cell_type": "code",
   "execution_count": null,
   "metadata": {},
   "outputs": [],
   "source": [
    "# annotated variants from CH\n",
    "coding_variants_merged = pd.read_csv('/home/opich/bg/temp/coding_variants_merged.tsv.gz', sep ='\\t')"
   ]
  },
  {
   "cell_type": "code",
   "execution_count": null,
   "metadata": {},
   "outputs": [],
   "source": [
    "# path to signature extraction of CH variants\n",
    "CH_exposures = pd.read_csv('/home/opich/bg/reverse_calling/data/signatures/reverse_calling/SigProfiler/exposures/basic_filters_mosaicfull.snvs/basic_filters_mosaicfull.snvs.exposures.tsv', \n",
    "                           sep ='\\t', index_col = 0).T\n",
    "\n",
    "treatment_sample_level = pickle.load(gzip.open(SIG_TREATMENT_DRUG_LVL))\n",
    "samples_t_cis = list(treatment_sample_level['PAN']['Cisplatin']) +\n",
    "                list(treatment_sample_level['PAN']['Carboplatin'])\n",
    "\n",
    "new_ix = [c.split('_')[0] for c in CH_exposures.index]\n",
    "CH_exposures.index = new_ix\n",
    "\n",
    "sexp = CH_exposures.loc[[s for s in samples_t_cis if s in CH_exposures.index]]\n",
    "\n",
    "ppm1d_affected = set(coding_variants_merged[coding_variants_merged['GENE']=='PPM1D']['NEW_S'].tolist())"
   ]
  },
  {
   "cell_type": "code",
   "execution_count": null,
   "metadata": {},
   "outputs": [],
   "source": [
    "v = [sexp[sexp['4_0.99_NA']>500]['4_0.99_NA'].tolist()]\n",
    "\n",
    "config_params(5)\n",
    "np.random.seed(1)\n",
    "fig, ax = plt.subplots(1, 1, figsize = (0.8,1))\n",
    "v = [sexp[sexp['4_0.99_NA']>0]['4_0.99_NA'].tolist()]\n",
    "index_persons = sexp[sexp['4_0.99_NA']>0].index.tolist()\n",
    "\n",
    "cols = ['grey' if i not in ppm1d_affected else 'orange' for i in index_persons]\n",
    "size = [1 if i not in ppm1d_affected else 4 for i in index_persons]\n",
    "x = list(itertools.chain.from_iterable([[0 + i] * len(l) for i, l in enumerate(v)]))\n",
    "x += np.random.normal(0, 0.05, size=len(x))\n",
    "y = list(itertools.chain.from_iterable(v))\n",
    "\n",
    "\n",
    "ax=sns.boxplot(data=v, showfliers=False, color = 'white',\n",
    "            medianprops={'color':'black'}, linewidth = 0.4, ax = ax) \n",
    "ax.scatter(x, y, s=1, alpha=0.5,\n",
    "              color=cols,  )  # scatter zorder=5\n",
    "\n",
    "ax.spines['top'].set_visible(False)\n",
    "ax.spines['right'].set_visible(False)\n",
    "\n",
    "plt.ylabel('HSC mutations')\n",
    "plt.ylim(0, 600)\n",
    "\n",
    "plt.show()"
   ]
  },
  {
   "cell_type": "markdown",
   "metadata": {},
   "source": [
    "# 4D"
   ]
  },
  {
   "cell_type": "code",
   "execution_count": null,
   "metadata": {},
   "outputs": [],
   "source": [
    "import os\n",
    "import tqdm\n",
    "import gzip\n",
    "import pickle\n",
    "import glob\n",
    "import sys\n",
    "\n",
    "import pandas as pd\n",
    "import numpy as np\n",
    "import scipy\n",
    "import seaborn as sns\n",
    "import itertools as itt\n",
    "\n",
    "import matplotlib as mpl\n",
    "import matplotlib.pyplot as plt\n",
    "\n",
    "from matplotlib import cm\n",
    "from matplotlib.colors import ListedColormap, LinearSegmentedColormap\n",
    "cmap = cm.get_cmap('Oranges')\n",
    "\n",
    "# DON'T USED\n",
    "#from utils import get_noisy_catalogue, Exposures, Processes, SignatureInjector, foreign_signatures"
   ]
  },
  {
   "cell_type": "code",
   "execution_count": null,
   "metadata": {},
   "outputs": [],
   "source": [
    "sys.path.append(\"../config/\")\n",
    "from config_plot import config_plot_params"
   ]
  },
  {
   "cell_type": "code",
   "execution_count": null,
   "metadata": {},
   "outputs": [],
   "source": [
    "from config import M_SIG_ACT_OBSERVED_UNTREATED, RESULT_CATALOGUE, BASIC_FILTERS"
   ]
  },
  {
   "cell_type": "markdown",
   "metadata": {},
   "source": [
    "# Parse mSigAct results (true cases)"
   ]
  },
  {
   "cell_type": "code",
   "execution_count": null,
   "metadata": {},
   "outputs": [],
   "source": [
    "def formatting(sig):\n",
    "    \n",
    "    \"\"\"\n",
    "    Some formatting rules for more clear notation\n",
    "    \"\"\"\n",
    "    \n",
    "    if 'X' in sig:\n",
    "        sig = sig[1:]\n",
    "    if 'SBS17b' in sig:\n",
    "        sig = 'SBS17b'\n",
    "    \n",
    "    return sig"
   ]
  },
  {
   "cell_type": "code",
   "execution_count": null,
   "metadata": {},
   "outputs": [],
   "source": [
    "df_list = []\n",
    "\n",
    "for fn in glob.glob(os.path.join(M_SIG_ACT_OBSERVED_UNTREATED, RESULT_CATALOGUE)):\n",
    "    \n",
    "    if 'null' in fn:\n",
    "        injected = 0\n",
    "        foreign = formatting('.'.join(os.path.basename(fn).split('mSigAct')[-1].split('.')[1:-1]))\n",
    "        \n",
    "    else:\n",
    "        injected = os.path.basename(fn).split('.tsv')[0].split('_')[-1]\n",
    "        foreign  = formatting('_'.join(os.path.basename(fn).split('.tsv')[0].split('_')[1:-1]))\n",
    "    \n",
    "    df = pd.read_csv(fn, sep='\\t')\n",
    "    foreign_col_label = df.columns.tolist()[-1]\n",
    "    df.rename(columns={foreign_col_label: formatting(foreign_col_label)}, inplace=True)\n",
    "    \n",
    "    df['injected'] = injected\n",
    "    df['foreign'] = foreign\n",
    "    df.reset_index(inplace=True)\n",
    "    df.rename(columns={'index': 'sample'}, inplace=True)\n",
    "    \n",
    "    df_list.append(df[['pval', 'sample', 'injected', 'foreign', formatting(foreign_col_label)]])\n",
    "\n",
    "results = pd.concat(df_list)\n",
    "results.fillna(value=0, inplace=True)\n",
    "results['injected'] = results['injected'].apply(int)"
   ]
  },
  {
   "cell_type": "markdown",
   "metadata": {},
   "source": [
    "# Reconstructed exposure by injected level"
   ]
  },
  {
   "cell_type": "code",
   "execution_count": null,
   "metadata": {},
   "outputs": [],
   "source": [
    "reconstructed = {}\n",
    "for sig in results['foreign'].unique():\n",
    "    for inj in results['injected'].unique():\n",
    "        df = results[(results['foreign'] == sig) & (results['injected'] == inj)]\n",
    "        reconstructed[(sig, inj)] = df.loc[:, [col for col in df.columns if col not in ['pval', 'sample', 'injected', 'foreign']]].sum(axis=1).tolist()"
   ]
  },
  {
   "cell_type": "code",
   "execution_count": null,
   "metadata": {},
   "outputs": [],
   "source": [
    "def run_plot(save=False):\n",
    "\n",
    "    fig, ax = plt.subplots(ncols=4, nrows=1, figsize=(20, 3))\n",
    "\n",
    "    foreign = ['SBS17b', 'SBS35', 'oxaliplatin', 'SBS31']\n",
    "    exposures = [2, 5, 7, 10, 15, 20, 25]\n",
    "    colors = list(map(cmap, [(e+3)/25 for e in exposures]))\n",
    "\n",
    "    for i, sig in enumerate(foreign):\n",
    "\n",
    "        v0 = np.array(reconstructed[(sig, 0)])\n",
    "        g0 = sns.kdeplot(v0, ax=ax[i], bw_adjust=0.4, color='green', \n",
    "                         shade=False, cumulative=True, label='zero injected', lw=5)\n",
    "\n",
    "        for j, exp in enumerate(exposures):\n",
    "\n",
    "            v1 = np.array(reconstructed[(sig, exp)])\n",
    "            ks, pval = scipy.stats.ks_2samp(v0, v1)\n",
    "            g = sns.kdeplot(v1, ax=ax[i], bw_adjust=0.4, color=colors[j],\n",
    "                            shade=False, cumulative=True, alpha=0.5, lw=5, \n",
    "                            label=f'injected={exp}; KS pval={np.round(pval,2)}')\n",
    "\n",
    "            ax[i].set_title(f'{sig}')\n",
    "            ax[i].set_xlim(0, 150)\n",
    "            ax[i].set_xlabel('reconstructed exposure')\n",
    "            ax[i].set_ylabel('cumulative density')\n",
    "            ax[i].spines['top'].set_visible(False)\n",
    "            ax[i].spines['right'].set_visible(False)\n",
    "            ax[i].legend()\n",
    "    \n",
    "    if save:\n",
    "        plt.savefig(f'{FIG_4}/reconstructed_vs_injected_onto_observed.all_samples.png', \n",
    "                    dpi=500, bbox_inches='tight')\n",
    "    \n",
    "    plt.show()    "
   ]
  },
  {
   "cell_type": "code",
   "execution_count": null,
   "metadata": {},
   "outputs": [],
   "source": [
    "run_plot()"
   ]
  },
  {
   "cell_type": "code",
   "execution_count": null,
   "metadata": {},
   "outputs": [],
   "source": [
    "# Compact version of the figure: close-up\n",
    "\n",
    "from matplotlib import cm\n",
    "from matplotlib.colors import ListedColormap, LinearSegmentedColormap\n",
    "cmap = cm.get_cmap('Oranges')\n",
    "\n",
    "\n",
    "def run_plot(save=False):\n",
    "\n",
    "    \n",
    "    \n",
    "    fig, ax = plt.subplots(ncols=4, nrows=1, figsize=(20, 3))\n",
    "\n",
    "    foreign = ['SBS17b', 'SBS35', 'oxaliplatin', 'SBS31']\n",
    "    exposures = [2, 5, 7, 10, 15, 20, 25]\n",
    "    colors = list(map(cmap, [(e+4)/25 for e in exposures]))\n",
    "\n",
    "    for i, sig in enumerate(foreign):\n",
    "\n",
    "        v0 = np.array(reconstructed[(sig, 0)])\n",
    "        g0 = sns.kdeplot(v0, ax=ax[i], bw_adjust=0.4, color='green', \n",
    "                         shade=False, cumulative=True, label='zero injected', lw=5)\n",
    "\n",
    "        for j, exp in enumerate(exposures):\n",
    "\n",
    "            v1 = np.array(reconstructed[(sig, exp)])\n",
    "            ks, pval = scipy.stats.ks_2samp(v0, v1)\n",
    "            g = sns.kdeplot(v1, ax=ax[i], bw_adjust=0.4, color=colors[j],\n",
    "                            shade=False, cumulative=True, alpha=0.5, lw=5, \n",
    "                            label=f'injected={exp}; KS pval={np.round(pval,2)}')\n",
    "\n",
    "            ax[i].set_title(f'{sig}')\n",
    "            ax[i].set_xlim(-0.4, 70)\n",
    "            ax[i].set_ylim(0.85,1.01)\n",
    "            ax[i].set_xlabel('reconstructed exposure')\n",
    "            ax[i].set_ylabel('cumulative density')\n",
    "            ax[i].spines['top'].set_visible(False)\n",
    "            ax[i].spines['right'].set_visible(False)\n",
    "            ax[i].legend()\n",
    "    \n",
    "    if save:\n",
    "\n",
    "        plt.savefig(f'{FIG_4}/reconstructed_vs_injected.all_samples.close-up.png', \n",
    "                    dpi=300, bbox_inches='tight')\n",
    "        plt.savefig(f'{FIG_4}/reconstructed_vs_injected.all_samples.close-up.svg', \n",
    "                    dpi=300, bbox_inches='tight')\n",
    "    \n",
    "    plt.show()"
   ]
  },
  {
   "cell_type": "code",
   "execution_count": null,
   "metadata": {},
   "outputs": [],
   "source": [
    "run_plot()"
   ]
  },
  {
   "cell_type": "markdown",
   "metadata": {},
   "source": [
    "# 4E"
   ]
  },
  {
   "cell_type": "code",
   "execution_count": null,
   "metadata": {},
   "outputs": [],
   "source": [
    "import os\n",
    "import sys\n",
    "import pandas as pd\n",
    "import numpy as np\n",
    "import tqdm\n",
    "import gzip\n",
    "import pickle\n",
    "import json\n",
    "import glob\n",
    "\n",
    "import scipy\n",
    "import matplotlib as mpl\n",
    "import matplotlib.pyplot as plt\n",
    "from matplotlib import cm\n",
    "\n",
    "import seaborn as sns\n",
    "import itertools as itt"
   ]
  },
  {
   "cell_type": "code",
   "execution_count": null,
   "metadata": {},
   "outputs": [],
   "source": [
    "sys.path.append(\"../config/\")\n",
    "from config_plot import config_plot_params"
   ]
  },
  {
   "cell_type": "code",
   "execution_count": null,
   "metadata": {},
   "outputs": [],
   "source": [
    "# Results parser from files\n",
    "def parse_results(base_path, files):\n",
    "    results_dict = {}\n",
    "\n",
    "    for fn in glob.glob(os.path.join(base_path, files)):\n",
    "        foreign = fn.split('.')[-2]\n",
    "        results = pd.read_csv(fn, sep='\\t')\n",
    "        results.reset_index(inplace=True)\n",
    "        results.rename(columns={'index': 'sample'}, inplace=True)\n",
    "        results.fillna(value=0, inplace=True)\n",
    "        results['sample'] = results['sample'].apply(lambda s: s.split('_')[0])\n",
    "        results['log_pval'] = results['pval'].apply(lambda x: -np.log10(x))\n",
    "        results_dict[foreign] = results.copy()\n",
    "    \n",
    "    return results_dict"
   ]
  },
  {
   "cell_type": "markdown",
   "metadata": {},
   "source": [
    "# Parse mSigAct results"
   ]
  },
  {
   "cell_type": "code",
   "execution_count": null,
   "metadata": {},
   "outputs": [],
   "source": [
    "from config import M_SIG_ACT_BASIC_FILTERS, RESULTS_BASIC_FILTERS\n",
    "\n",
    "results_dict = parse_results(M_SIG_ACT_BASIC_FILTERS, RESULTS_BASIC_FILTERS)"
   ]
  },
  {
   "cell_type": "markdown",
   "metadata": {},
   "source": [
    "# Treatment regimens"
   ]
  },
  {
   "cell_type": "code",
   "execution_count": null,
   "metadata": {},
   "outputs": [],
   "source": [
    "from config import SIG_TREATMENT_DRUG_LVL\n",
    "\n",
    "with gzip.open(SIG_TREATMENT_DRUG_LVL, 'rb') as f:\n",
    "    treatment_regimens = pickle.load(f)"
   ]
  },
  {
   "cell_type": "code",
   "execution_count": null,
   "metadata": {},
   "outputs": [],
   "source": [
    "carboplatin = treatment_regimens['PAN']['Carboplatin']\n",
    "cisplatin = treatment_regimens['PAN']['Cisplatin']\n",
    "oxaliplatin = treatment_regimens['PAN']['Oxaliplatin']\n",
    "fluorouracil = treatment_regimens['PAN']['Fluorouracil']\n",
    "capecitabine = treatment_regimens['PAN']['Capecitabine']\n",
    "\n",
    "treated = {'carboplatin': carboplatin, \n",
    "           'cisplatin': cisplatin, \n",
    "           'oxaliplatin': oxaliplatin, \n",
    "           'fluorouracil': fluorouracil, \n",
    "           'capecitabine': capecitabine}"
   ]
  },
  {
   "cell_type": "code",
   "execution_count": null,
   "metadata": {},
   "outputs": [],
   "source": [
    "# untreated\n",
    "\n",
    "from config import UNTREATED_SAMPLES\n",
    "\n",
    "with gzip.open(UNTREATED_SAMPLES, 'rb') as f:\n",
    "    treated['untreated'] = json.load(f)\n",
    "\n",
    "treated['platin'] = set.union(*[treated['carboplatin'], treated['cisplatin'], treated['oxaliplatin']])\n",
    "treated['NMI'] = set.union(*[treated['capecitabine'], treated['fluorouracil']])"
   ]
  },
  {
   "cell_type": "markdown",
   "metadata": {},
   "source": [
    "# Slice results"
   ]
  },
  {
   "cell_type": "code",
   "execution_count": null,
   "metadata": {},
   "outputs": [],
   "source": [
    "# Recover the msigact runs with observed untreated\n",
    "\n",
    "from config import M_SIG_ACT_OBSERVED_UNTREATED, M_SIG_ACT_CATALOGUE\n",
    "\n",
    "results_dict_untreated = parse_results(M_SIG_ACT_OBSERVED_UNTREATED, M_SIG_ACT_CATALOGUE)"
   ]
  },
  {
   "cell_type": "code",
   "execution_count": null,
   "metadata": {},
   "outputs": [],
   "source": [
    "def extract_sample(results):\n",
    "    samples = results[foreign]['sample'].values\n",
    "    samples_v = [i for i, s in enumerate(samples) if s in v]\n",
    "    return results[foreign].loc[samples_v].copy()\n",
    "    \n",
    "\n",
    "treatment_slices = {}\n",
    "for foreign in results_dict:\n",
    "    treatment_slices[foreign] = {}\n",
    "    for k, v in treated.items():\n",
    "        if k == 'untreated':\n",
    "            treatment_slices[foreign][k] = extract_sample(results_dict_untreated)\n",
    "        else:\n",
    "            treatment_slices[foreign][k] = extract_sample(results_dict)"
   ]
  },
  {
   "cell_type": "code",
   "execution_count": null,
   "metadata": {
    "scrolled": true
   },
   "outputs": [],
   "source": [
    "# Regimen centric analysis\n",
    "\n",
    "from config import FIG_4\n",
    "\n",
    "cmap = cm.get_cmap('Oranges')\n",
    "\n",
    "def run_plot(save=False):\n",
    "\n",
    "    for regimen in ['carboplatin', 'cisplatin', 'oxaliplatin', 'fluorouracil',\n",
    "                    'capecitabine', 'untreated', 'platin', 'NMI']:\n",
    "\n",
    "        fig, ax = plt.subplots(ncols=4, figsize=(20, 3))\n",
    "\n",
    "        for i, foreign in enumerate(treatment_slices):\n",
    "\n",
    "            v1 = treatment_slices[foreign][regimen][foreign].values\n",
    "            sns.kdeplot(v1, ax=ax[i], bw_method=0.4, shade=False, cumulative=True, \n",
    "                        label=f'{regimen}: n={len(v1)}', color=cmap(0.9), lw=5, alpha=0.5)\n",
    "\n",
    "            v0 = treatment_slices[foreign]['untreated'][foreign].values\n",
    "            sns.kdeplot(v0, ax=ax[i], bw_method=0.4, shade=False, color='green', cumulative=True, \n",
    "                        label=f'untreated: n={len(v0)}', lw=5)\n",
    "\n",
    "            ks, pval = scipy.stats.ks_2samp(v0, v1)\n",
    "\n",
    "            ax[i].set_title(f'{foreign}')\n",
    "            ax[i].set_ylim(0.85,)\n",
    "            ax[i].set_xlabel('reconstructed exposure')\n",
    "            ax[i].set_ylabel('cumulative density')\n",
    "            ax[i].spines['top'].set_visible(False)\n",
    "            ax[i].spines['right'].set_visible(False)\n",
    "\n",
    "            ax[i].legend(title=f'KS pval={np.round(pval,2)}', loc=4)\n",
    "\n",
    "        fig.suptitle(regimen)\n",
    "        \n",
    "        if save:\n",
    "            \n",
    "            plt.savefig(f'{FIG_4}/observed-treated-untreated.{regimen}.regimen-centric.close-up.svg', \n",
    "                        dpi=300, bbox_inches='tight')\n",
    "            plt.savefig(f'{FIG_4}/observed-treated-untreated.{regimen}.regimen-centric.close-up.png', \n",
    "                        dpi=300, bbox_inches='tight')\n",
    "\n",
    "    plt.show()"
   ]
  },
  {
   "cell_type": "code",
   "execution_count": null,
   "metadata": {},
   "outputs": [],
   "source": [
    "run_plot()"
   ]
  },
  {
   "cell_type": "code",
   "execution_count": null,
   "metadata": {},
   "outputs": [],
   "source": []
  }
 ],
 "metadata": {
  "kernelspec": {
   "display_name": "Python 3",
   "language": "python",
   "name": "python3"
  },
  "language_info": {
   "codemirror_mode": {
    "name": "ipython",
    "version": 3
   },
   "file_extension": ".py",
   "mimetype": "text/x-python",
   "name": "python",
   "nbconvert_exporter": "python",
   "pygments_lexer": "ipython3",
   "version": "3.8.3"
  },
  "toc": {
   "base_numbering": 1,
   "nav_menu": {},
   "number_sections": true,
   "sideBar": true,
   "skip_h1_title": false,
   "title_cell": "Table of Contents",
   "title_sidebar": "Contents",
   "toc_cell": false,
   "toc_position": {},
   "toc_section_display": true,
   "toc_window_display": false
  }
 },
 "nbformat": 4,
 "nbformat_minor": 2
}
